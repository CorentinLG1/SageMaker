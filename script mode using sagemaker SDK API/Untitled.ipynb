{
 "cells": [
  {
   "cell_type": "code",
   "execution_count": 6,
   "id": "1d679e84",
   "metadata": {},
   "outputs": [],
   "source": [
    "import boto3\n",
    "import sagemaker\n",
    "\n",
    "import pandas as pd\n",
    "import numpy as np\n",
    "import os"
   ]
  },
  {
   "cell_type": "code",
   "execution_count": 4,
   "id": "8dea919c",
   "metadata": {},
   "outputs": [
    {
     "name": "stdout",
     "output_type": "stream",
     "text": [
      "AWS Region : us-east-1\n"
     ]
    }
   ],
   "source": [
    "#Manage interactions with the Amazon SageMaker APIs and any other AWS services needed\n",
    "session = sagemaker.Session()\n",
    "#see the region in which we work\n",
    "region = session.boto_region_name\n",
    "print(\"AWS Region : {}\".format(region))\n",
    "\n",
    "role = sagemaker.get_execution_role()\n",
    "bucket = session.default_bucket()"
   ]
  },
  {
   "cell_type": "code",
   "execution_count": 7,
   "id": "e3a474e8",
   "metadata": {},
   "outputs": [],
   "source": [
    "#Upload the dataset to S3\n",
    "prefix = \"data_script_mode\"\n",
    "boto3.Session().resource('s3').Bucket(bucket).Object(os.path.join(prefix, 'data/dataset.csv')).upload_file('predictive_maintenance.csv')"
   ]
  },
  {
   "cell_type": "markdown",
   "id": "e1ec2857",
   "metadata": {},
   "source": [
    "## Processing"
   ]
  },
  {
   "cell_type": "code",
   "execution_count": 8,
   "id": "7dedc131",
   "metadata": {},
   "outputs": [
    {
     "data": {
      "text/plain": [
       "'683313688378.dkr.ecr.us-east-1.amazonaws.com/sagemaker-scikit-learn:0.23-1-cpu-py3'"
      ]
     },
     "execution_count": 8,
     "metadata": {},
     "output_type": "execute_result"
    }
   ],
   "source": [
    "from sagemaker import image_uris\n",
    "processing_image = image_uris.retrieve(framework='sklearn',region='us-east-1',version='0.23-1',image_scope='training')\n",
    "processing_image"
   ]
  },
  {
   "cell_type": "code",
   "execution_count": 9,
   "id": "7d63a32b",
   "metadata": {},
   "outputs": [
    {
     "name": "stdout",
     "output_type": "stream",
     "text": [
      "mkdir: cannot create directory ‘docker’: File exists\r\n"
     ]
    }
   ],
   "source": [
    "mkdir docker"
   ]
  },
  {
   "cell_type": "code",
   "execution_count": 10,
   "id": "fd6c5630",
   "metadata": {},
   "outputs": [
    {
     "name": "stdout",
     "output_type": "stream",
     "text": [
      "Overwriting docker/dockerfile\n"
     ]
    }
   ],
   "source": [
    "%%writefile docker/dockerfile\n",
    "\n",
    "FROM python:3.7-slim-buster\n",
    "\n",
    "RUN pip3 install pandas scikit-learn\n",
    "ENV PYTHONUNBUFFERED=TRUE\n",
    "\n",
    "\n",
    "COPY processing.py ."
   ]
  },
  {
   "cell_type": "code",
   "execution_count": 11,
   "id": "69678f3d",
   "metadata": {},
   "outputs": [
    {
     "name": "stdout",
     "output_type": "stream",
     "text": [
      "Sending build context to Docker daemon  4.096kB\n",
      "Step 1/4 : FROM python:3.7-slim-buster\n",
      "3.7-slim-buster: Pulling from library/python\n",
      "\n",
      "\u001b[1Bb88d5577: Pulling fs layer \n",
      "\u001b[1B16e23423: Pulling fs layer \n",
      "\u001b[1Bc2981082: Pulling fs layer \n",
      "\u001b[1B68d15a5c: Pulling fs layer \n",
      "\u001b[1BDigest: sha256:9bd2bfc822a533f99cbe6b1311d5bf0ff136f776ebac9b985407829f17278935[1A\u001b[2K\u001b[5A\u001b[2K\u001b[5A\u001b[2K\u001b[5A\u001b[2K\u001b[5A\u001b[2K\u001b[5A\u001b[2K\u001b[5A\u001b[2K\u001b[5A\u001b[2K\u001b[5A\u001b[2K\u001b[5A\u001b[2K\u001b[5A\u001b[2K\u001b[5A\u001b[2K\u001b[5A\u001b[2K\u001b[4A\u001b[2K\u001b[4A\u001b[2K\u001b[3A\u001b[2K\u001b[3A\u001b[2K\u001b[3A\u001b[2K\u001b[3A\u001b[2K\u001b[3A\u001b[2K\u001b[3A\u001b[2K\u001b[2A\u001b[2K\u001b[1A\u001b[2K\u001b[1A\u001b[2K\u001b[1A\u001b[2K\n",
      "Status: Downloaded newer image for python:3.7-slim-buster\n",
      " ---> 099f4583c701\n",
      "Step 2/4 : RUN pip3 install pandas scikit-learn\n",
      " ---> Running in 218c16d6197b\n",
      "Collecting pandas\n",
      "  Downloading pandas-1.3.5-cp37-cp37m-manylinux_2_17_x86_64.manylinux2014_x86_64.whl (11.3 MB)\n",
      "     ━━━━━━━━━━━━━━━━━━━━━━━━━━━━━━━━━━━━━━━━ 11.3/11.3 MB 38.8 MB/s eta 0:00:00\n",
      "Collecting scikit-learn\n",
      "  Downloading scikit_learn-1.0.2-cp37-cp37m-manylinux_2_17_x86_64.manylinux2014_x86_64.whl (24.8 MB)\n",
      "     ━━━━━━━━━━━━━━━━━━━━━━━━━━━━━━━━━━━━━━━━ 24.8/24.8 MB 63.3 MB/s eta 0:00:00\n",
      "Collecting python-dateutil>=2.7.3\n",
      "  Downloading python_dateutil-2.8.2-py2.py3-none-any.whl (247 kB)\n",
      "     ━━━━━━━━━━━━━━━━━━━━━━━━━━━━━━━━━━━━━━ 247.7/247.7 kB 47.5 MB/s eta 0:00:00\n",
      "Collecting pytz>=2017.3\n",
      "  Downloading pytz-2023.3-py2.py3-none-any.whl (502 kB)\n",
      "     ━━━━━━━━━━━━━━━━━━━━━━━━━━━━━━━━━━━━━━ 502.3/502.3 kB 70.8 MB/s eta 0:00:00\n",
      "Collecting numpy>=1.17.3\n",
      "  Downloading numpy-1.21.6-cp37-cp37m-manylinux_2_12_x86_64.manylinux2010_x86_64.whl (15.7 MB)\n",
      "     ━━━━━━━━━━━━━━━━━━━━━━━━━━━━━━━━━━━━━━━━ 15.7/15.7 MB 85.1 MB/s eta 0:00:00\n",
      "Collecting joblib>=0.11\n",
      "  Downloading joblib-1.2.0-py3-none-any.whl (297 kB)\n",
      "     ━━━━━━━━━━━━━━━━━━━━━━━━━━━━━━━━━━━━━━ 298.0/298.0 kB 45.5 MB/s eta 0:00:00\n",
      "Collecting threadpoolctl>=2.0.0\n",
      "  Downloading threadpoolctl-3.1.0-py3-none-any.whl (14 kB)\n",
      "Collecting scipy>=1.1.0\n",
      "  Downloading scipy-1.7.3-cp37-cp37m-manylinux_2_12_x86_64.manylinux2010_x86_64.whl (38.1 MB)\n",
      "     ━━━━━━━━━━━━━━━━━━━━━━━━━━━━━━━━━━━━━━━━ 38.1/38.1 MB 50.0 MB/s eta 0:00:00\n",
      "Collecting six>=1.5\n",
      "  Downloading six-1.16.0-py2.py3-none-any.whl (11 kB)\n",
      "Installing collected packages: pytz, threadpoolctl, six, numpy, joblib, scipy, python-dateutil, scikit-learn, pandas\n",
      "Successfully installed joblib-1.2.0 numpy-1.21.6 pandas-1.3.5 python-dateutil-2.8.2 pytz-2023.3 scikit-learn-1.0.2 scipy-1.7.3 six-1.16.0 threadpoolctl-3.1.0\n",
      "\u001b[91mWARNING: Running pip as the 'root' user can result in broken permissions and conflicting behaviour with the system package manager. It is recommended to use a virtual environment instead: https://pip.pypa.io/warnings/venv\n",
      "\u001b[0m\u001b[91m\n",
      "[notice] A new release of pip is available: 23.0.1 -> 23.1.2\n",
      "[notice] To update, run: pip install --upgrade pip\n",
      "\u001b[0mRemoving intermediate container 218c16d6197b\n",
      " ---> 73c80bcfa5fa\n",
      "Step 3/4 : ENV PYTHONUNBUFFERED=TRUE\n",
      " ---> Running in 191b2052f292\n",
      "Removing intermediate container 191b2052f292\n",
      " ---> 6d1d6ca8ed45\n",
      "Step 4/4 : COPY processing.py .\n",
      " ---> 2486bcb0f713\n",
      "Successfully built 2486bcb0f713\n",
      "Successfully tagged sagemaker-processing-container:latest\n",
      "WARNING! Your password will be stored unencrypted in /home/ec2-user/.docker/config.json.\n",
      "Configure a credential helper to remove this warning. See\n",
      "https://docs.docker.com/engine/reference/commandline/login/#credentials-store\n",
      "\n",
      "Login Succeeded\n",
      "\n",
      "An error occurred (RepositoryAlreadyExistsException) when calling the CreateRepository operation: The repository with name 'sagemaker-processing-container' already exists in the registry with id '222978838857'\n",
      "The push refers to repository [222978838857.dkr.ecr.us-east-1.amazonaws.com/sagemaker-processing-container]\n",
      "\n",
      "\u001b[1Bed019f08: Preparing \n",
      "\u001b[1B98c9025b: Preparing \n",
      "\u001b[1B8d012914: Preparing \n",
      "\u001b[1Bd30bdfa9: Preparing \n",
      "\u001b[1B9f968310: Preparing \n",
      "\u001b[1B55769c5e: Preparing \n",
      "\u001b[6B98c9025b: Pushed   447.1MB/440MBkBA\u001b[2K\u001b[2A\u001b[2K\u001b[6A\u001b[2K\u001b[6A\u001b[2K\u001b[6A\u001b[2K\u001b[7A\u001b[2K\u001b[6A\u001b[2K\u001b[6A\u001b[2K\u001b[6A\u001b[2K\u001b[6A\u001b[2K\u001b[6A\u001b[2K\u001b[6A\u001b[2K\u001b[6A\u001b[2K\u001b[6A\u001b[2K\u001b[6A\u001b[2K\u001b[6A\u001b[2K\u001b[6A\u001b[2K\u001b[6A\u001b[2K\u001b[6A\u001b[2K\u001b[6A\u001b[2K\u001b[6A\u001b[2K\u001b[6A\u001b[2K\u001b[6A\u001b[2K\u001b[6A\u001b[2K\u001b[6A\u001b[2K\u001b[6A\u001b[2K\u001b[6A\u001b[2K\u001b[6A\u001b[2K\u001b[6A\u001b[2K\u001b[6A\u001b[2K\u001b[6A\u001b[2K\u001b[6A\u001b[2K\u001b[6A\u001b[2K\u001b[6A\u001b[2K\u001b[6A\u001b[2K\u001b[6A\u001b[2K\u001b[6A\u001b[2K\u001b[6A\u001b[2K\u001b[6A\u001b[2K\u001b[6A\u001b[2K\u001b[6A\u001b[2K\u001b[6A\u001b[2K\u001b[6A\u001b[2K\u001b[6A\u001b[2K\u001b[6A\u001b[2K\u001b[6A\u001b[2K\u001b[6A\u001b[2K\u001b[6A\u001b[2K\u001b[6A\u001b[2K\u001b[6A\u001b[2K\u001b[6A\u001b[2K\u001b[6A\u001b[2K\u001b[6A\u001b[2K\u001b[6A\u001b[2K\u001b[6A\u001b[2K\u001b[6A\u001b[2K\u001b[6A\u001b[2K\u001b[6A\u001b[2K\u001b[6A\u001b[2K\u001b[6A\u001b[2K\u001b[6A\u001b[2KPushing  128.1MB/440MB\u001b[6A\u001b[2K\u001b[6A\u001b[2K\u001b[6A\u001b[2K\u001b[6A\u001b[2K\u001b[6A\u001b[2K\u001b[6A\u001b[2K\u001b[6A\u001b[2K\u001b[6A\u001b[2K\u001b[6A\u001b[2K\u001b[6A\u001b[2K\u001b[6A\u001b[2K\u001b[6A\u001b[2K\u001b[6A\u001b[2K\u001b[6A\u001b[2K\u001b[6A\u001b[2K\u001b[6A\u001b[2K\u001b[6A\u001b[2K\u001b[6A\u001b[2K\u001b[6A\u001b[2K\u001b[6A\u001b[2K\u001b[6A\u001b[2K\u001b[6A\u001b[2K\u001b[6A\u001b[2K\u001b[6A\u001b[2K\u001b[6A\u001b[2K\u001b[6A\u001b[2K\u001b[6A\u001b[2K\u001b[6A\u001b[2K\u001b[6A\u001b[2K\u001b[6A\u001b[2K\u001b[6A\u001b[2K\u001b[6A\u001b[2K\u001b[6A\u001b[2K\u001b[6A\u001b[2K\u001b[6A\u001b[2K\u001b[6A\u001b[2K\u001b[6A\u001b[2K\u001b[6A\u001b[2K\u001b[6A\u001b[2K\u001b[6A\u001b[2K\u001b[6A\u001b[2K\u001b[6A\u001b[2K\u001b[6A\u001b[2K\u001b[6A\u001b[2K\u001b[6A\u001b[2K\u001b[6A\u001b[2K\u001b[6A\u001b[2K\u001b[6A\u001b[2K\u001b[6A\u001b[2K\u001b[6A\u001b[2K\u001b[6A\u001b[2K\u001b[6A\u001b[2K\u001b[6A\u001b[2K\u001b[6A\u001b[2K\u001b[6A\u001b[2K\u001b[6A\u001b[2K\u001b[6A\u001b[2K\u001b[6A\u001b[2K\u001b[6A\u001b[2K\u001b[6A\u001b[2K\u001b[6A\u001b[2K\u001b[6A\u001b[2K\u001b[6A\u001b[2K\u001b[6A\u001b[2K\u001b[6A\u001b[2K\u001b[6A\u001b[2K\u001b[6A\u001b[2K\u001b[6A\u001b[2K\u001b[6A\u001b[2K\u001b[6A\u001b[2K\u001b[6A\u001b[2K\u001b[6A\u001b[2K\u001b[6A\u001b[2K\u001b[6A\u001b[2K\u001b[6A\u001b[2K\u001b[6A\u001b[2K\u001b[6A\u001b[2K\u001b[6A\u001b[2KPushing  335.4MB/440MB\u001b[6A\u001b[2K\u001b[6A\u001b[2K\u001b[6A\u001b[2K\u001b[6A\u001b[2K\u001b[6A\u001b[2K\u001b[6A\u001b[2K\u001b[6A\u001b[2K\u001b[6A\u001b[2K\u001b[6A\u001b[2K\u001b[6A\u001b[2K\u001b[6A\u001b[2K\u001b[6A\u001b[2K\u001b[6A\u001b[2K\u001b[6A\u001b[2K\u001b[6A\u001b[2K\u001b[6A\u001b[2K\u001b[6A\u001b[2K\u001b[6A\u001b[2K\u001b[6A\u001b[2K\u001b[6A\u001b[2K\u001b[6A\u001b[2K\u001b[6A\u001b[2K\u001b[6A\u001b[2K\u001b[6A\u001b[2K\u001b[6A\u001b[2K\u001b[6A\u001b[2K\u001b[6A\u001b[2K\u001b[6A\u001b[2K\u001b[6A\u001b[2K\u001b[6A\u001b[2K\u001b[6A\u001b[2K\u001b[6A\u001b[2K\u001b[6A\u001b[2K\u001b[6A\u001b[2K\u001b[6A\u001b[2K\u001b[6A\u001b[2K\u001b[6A\u001b[2K\u001b[6A\u001b[2K\u001b[6A\u001b[2K\u001b[6A\u001b[2K\u001b[6A\u001b[2K\u001b[6A\u001b[2K\u001b[6A\u001b[2K\u001b[6A\u001b[2K\u001b[6A\u001b[2Klatest: digest: sha256:00fa2a8401735238769986ebf1c4f84923a530ced7c678ad6e442f634955543a size: 1790\n"
     ]
    }
   ],
   "source": [
    "account_id = boto3.client('sts').get_caller_identity().get('Account')\n",
    "ecr_repository = 'sagemaker-processing-container'\n",
    "tag = ':latest'\n",
    "processing_repository_uri = '{}.dkr.ecr.{}.amazonaws.com/{}'.format(account_id, region, ecr_repository + tag)\n",
    "\n",
    "!docker build -t $ecr_repository docker\n",
    "\n",
    "!aws ecr get-login-password --region {region} | docker login --username AWS --password-stdin {account_id}.dkr.ecr.{region}.amazonaws.com\n",
    "\n",
    "!aws ecr create-repository --repository-name $ecr_repository\n",
    "\n",
    "!docker tag {ecr_repository + tag} $processing_repository_uri\n",
    "\n",
    "!docker push $processing_repository_uri"
   ]
  },
  {
   "cell_type": "code",
   "execution_count": 12,
   "id": "57c5dc34",
   "metadata": {},
   "outputs": [
    {
     "name": "stderr",
     "output_type": "stream",
     "text": [
      "INFO:sagemaker:Creating processing-job with name sagemaker-processing-container-2023-06-15-07-37-33-654\n",
      "INFO:sagemaker.local.local_session:Starting processing job\n",
      "INFO:botocore.credentials:Found credentials from IAM Role: BaseNotebookInstanceEc2InstanceRole\n",
      "INFO:sagemaker.local.image:No AWS credentials found in session but credentials from EC2 Metadata Service are available.\n",
      "INFO:sagemaker.local.image:docker compose file: \n",
      "networks:\n",
      "  sagemaker-local:\n",
      "    name: sagemaker-local\n",
      "services:\n",
      "  algo-1-1ysj7:\n",
      "    container_name: y6fb33hfwi-algo-1-1ysj7\n",
      "    entrypoint:\n",
      "    - python3\n",
      "    - processing.py\n",
      "    - --train-test-split-ratio\n",
      "    - '0.2'\n",
      "    environment: []\n",
      "    image: 222978838857.dkr.ecr.us-east-1.amazonaws.com/sagemaker-processing-container\n",
      "    networks:\n",
      "      sagemaker-local:\n",
      "        aliases:\n",
      "        - algo-1-1ysj7\n",
      "    stdin_open: true\n",
      "    tty: true\n",
      "    volumes:\n",
      "    - /tmp/tmpq65mb59b/algo-1-1ysj7/config:/opt/ml/config\n",
      "    - /tmp/tmpq65mb59b/algo-1-1ysj7/output:/opt/ml/output\n",
      "    - /tmp/tmpbkh8mf1a:/opt/ml/processing/input\n",
      "    - /tmp/tmpds3k7ion/output/train_data:/opt/ml/processing/train\n",
      "    - /tmp/tmpds3k7ion/output/test_data:/opt/ml/processing/test\n",
      "    - /tmp/tmpq65mb59b/shared:/opt/ml/shared\n",
      "version: '2.3'\n",
      "\n",
      "INFO:sagemaker.local.image:docker command: docker-compose -f /tmp/tmpq65mb59b/docker-compose.yaml up --build --abort-on-container-exit\n"
     ]
    },
    {
     "name": "stdout",
     "output_type": "stream",
     "text": [
      "Creating y6fb33hfwi-algo-1-1ysj7 ... \n",
      "Creating y6fb33hfwi-algo-1-1ysj7 ... done\n",
      "Attaching to y6fb33hfwi-algo-1-1ysj7\n",
      "\u001b[36my6fb33hfwi-algo-1-1ysj7 |\u001b[0m Received arguments Namespace(train_test_split_ratio=0.2)\n",
      "\u001b[36my6fb33hfwi-algo-1-1ysj7 |\u001b[0m Reading input data from /opt/ml/processing/input/dataset.csv\n",
      "\u001b[36my6fb33hfwi-algo-1-1ysj7 |\u001b[0m Splitting data into train and test sets with ratio 0.2\n",
      "\u001b[36my6fb33hfwi-algo-1-1ysj7 |\u001b[0m       Type  ...  Target\n",
      "\u001b[36my6fb33hfwi-algo-1-1ysj7 |\u001b[0m UDI         ...        \n",
      "\u001b[36my6fb33hfwi-algo-1-1ysj7 |\u001b[0m 7390     0  ...       0\n",
      "\u001b[36my6fb33hfwi-algo-1-1ysj7 |\u001b[0m 9276     0  ...       0\n",
      "\u001b[36my6fb33hfwi-algo-1-1ysj7 |\u001b[0m 2996     0  ...       0\n",
      "\u001b[36my6fb33hfwi-algo-1-1ysj7 |\u001b[0m 5317     1  ...       0\n",
      "\u001b[36my6fb33hfwi-algo-1-1ysj7 |\u001b[0m 357      1  ...       0\n",
      "\u001b[36my6fb33hfwi-algo-1-1ysj7 |\u001b[0m ...    ...  ...     ...\n",
      "\u001b[36my6fb33hfwi-algo-1-1ysj7 |\u001b[0m 9226     0  ...       0\n",
      "\u001b[36my6fb33hfwi-algo-1-1ysj7 |\u001b[0m 4860     0  ...       0\n",
      "\u001b[36my6fb33hfwi-algo-1-1ysj7 |\u001b[0m 3265     2  ...       0\n",
      "\u001b[36my6fb33hfwi-algo-1-1ysj7 |\u001b[0m 9846     0  ...       0\n",
      "\u001b[36my6fb33hfwi-algo-1-1ysj7 |\u001b[0m 2733     0  ...       0\n",
      "\u001b[36my6fb33hfwi-algo-1-1ysj7 |\u001b[0m \n",
      "\u001b[36my6fb33hfwi-algo-1-1ysj7 |\u001b[0m [8000 rows x 7 columns]\n",
      "\u001b[36my6fb33hfwi-algo-1-1ysj7 exited with code 0\n",
      "\u001b[0mAborting on container exit...\n",
      "===== Job Complete =====\n"
     ]
    }
   ],
   "source": [
    "from sagemaker.processing import Processor\n",
    "from sagemaker.processing import ProcessingInput, ProcessingOutput\n",
    "processor = Processor(\n",
    "    role = role,\n",
    "    image_uri = \"222978838857.dkr.ecr.us-east-1.amazonaws.com/sagemaker-processing-container\",\n",
    "    instance_count = 1,\n",
    "    instance_type = \"local\",\n",
    "    entrypoint = [\"python3\", \"processing.py\"]\n",
    "    )\n",
    "\n",
    "bucket_path = 's3://{}'.format(bucket)\n",
    "\n",
    "processor.run(\n",
    "    inputs=[ProcessingInput(source=f\"{bucket_path}/{prefix}/data/dataset.csv\", destination=\"/opt/ml/processing/input\")],\n",
    "    outputs=[\n",
    "        ProcessingOutput(output_name=\"train_data\", source=\"/opt/ml/processing/train\"),\n",
    "        ProcessingOutput(output_name=\"test_data\", source=\"/opt/ml/processing/test\"),\n",
    "    ],\n",
    "    arguments=[\"--train-test-split-ratio\", \"0.2\"],\n",
    ")"
   ]
  },
  {
   "cell_type": "code",
   "execution_count": 13,
   "id": "780b9a58",
   "metadata": {},
   "outputs": [
    {
     "name": "stderr",
     "output_type": "stream",
     "text": [
      "INFO:botocore.credentials:Found credentials from IAM Role: BaseNotebookInstanceEc2InstanceRole\n"
     ]
    },
    {
     "name": "stdout",
     "output_type": "stream",
     "text": [
      "Training features shape: (10, 7)\n"
     ]
    },
    {
     "data": {
      "text/html": [
       "<div>\n",
       "<style scoped>\n",
       "    .dataframe tbody tr th:only-of-type {\n",
       "        vertical-align: middle;\n",
       "    }\n",
       "\n",
       "    .dataframe tbody tr th {\n",
       "        vertical-align: top;\n",
       "    }\n",
       "\n",
       "    .dataframe thead th {\n",
       "        text-align: right;\n",
       "    }\n",
       "</style>\n",
       "<table border=\"1\" class=\"dataframe\">\n",
       "  <thead>\n",
       "    <tr style=\"text-align: right;\">\n",
       "      <th></th>\n",
       "      <th>Type</th>\n",
       "      <th>Air temperature [K]</th>\n",
       "      <th>Process temperature [K]</th>\n",
       "      <th>Rotational speed [rpm]</th>\n",
       "      <th>Torque [Nm]</th>\n",
       "      <th>Tool wear [min]</th>\n",
       "    </tr>\n",
       "    <tr>\n",
       "      <th>UDI</th>\n",
       "      <th></th>\n",
       "      <th></th>\n",
       "      <th></th>\n",
       "      <th></th>\n",
       "      <th></th>\n",
       "      <th></th>\n",
       "    </tr>\n",
       "  </thead>\n",
       "  <tbody>\n",
       "    <tr>\n",
       "      <th>7390</th>\n",
       "      <td>0</td>\n",
       "      <td>299.8</td>\n",
       "      <td>310.6</td>\n",
       "      <td>1707</td>\n",
       "      <td>32.5</td>\n",
       "      <td>124</td>\n",
       "    </tr>\n",
       "    <tr>\n",
       "      <th>9276</th>\n",
       "      <td>0</td>\n",
       "      <td>298.2</td>\n",
       "      <td>308.7</td>\n",
       "      <td>1605</td>\n",
       "      <td>29.4</td>\n",
       "      <td>47</td>\n",
       "    </tr>\n",
       "    <tr>\n",
       "      <th>2996</th>\n",
       "      <td>0</td>\n",
       "      <td>300.5</td>\n",
       "      <td>309.8</td>\n",
       "      <td>1550</td>\n",
       "      <td>37.4</td>\n",
       "      <td>148</td>\n",
       "    </tr>\n",
       "    <tr>\n",
       "      <th>5317</th>\n",
       "      <td>1</td>\n",
       "      <td>303.6</td>\n",
       "      <td>312.8</td>\n",
       "      <td>1689</td>\n",
       "      <td>33.1</td>\n",
       "      <td>16</td>\n",
       "    </tr>\n",
       "    <tr>\n",
       "      <th>357</th>\n",
       "      <td>1</td>\n",
       "      <td>297.6</td>\n",
       "      <td>308.4</td>\n",
       "      <td>1398</td>\n",
       "      <td>48.9</td>\n",
       "      <td>63</td>\n",
       "    </tr>\n",
       "    <tr>\n",
       "      <th>50</th>\n",
       "      <td>1</td>\n",
       "      <td>298.9</td>\n",
       "      <td>309.2</td>\n",
       "      <td>1412</td>\n",
       "      <td>44.1</td>\n",
       "      <td>140</td>\n",
       "    </tr>\n",
       "    <tr>\n",
       "      <th>7932</th>\n",
       "      <td>0</td>\n",
       "      <td>300.7</td>\n",
       "      <td>311.7</td>\n",
       "      <td>1499</td>\n",
       "      <td>38.4</td>\n",
       "      <td>205</td>\n",
       "    </tr>\n",
       "    <tr>\n",
       "      <th>1524</th>\n",
       "      <td>0</td>\n",
       "      <td>298.3</td>\n",
       "      <td>309.0</td>\n",
       "      <td>1519</td>\n",
       "      <td>36.9</td>\n",
       "      <td>41</td>\n",
       "    </tr>\n",
       "    <tr>\n",
       "      <th>7553</th>\n",
       "      <td>0</td>\n",
       "      <td>300.3</td>\n",
       "      <td>311.3</td>\n",
       "      <td>1525</td>\n",
       "      <td>40.7</td>\n",
       "      <td>105</td>\n",
       "    </tr>\n",
       "    <tr>\n",
       "      <th>497</th>\n",
       "      <td>1</td>\n",
       "      <td>297.5</td>\n",
       "      <td>309.2</td>\n",
       "      <td>1530</td>\n",
       "      <td>40.0</td>\n",
       "      <td>206</td>\n",
       "    </tr>\n",
       "  </tbody>\n",
       "</table>\n",
       "</div>"
      ],
      "text/plain": [
       "      Type  Air temperature [K]  Process temperature [K]   \n",
       "UDI                                                        \n",
       "7390     0                299.8                    310.6  \\\n",
       "9276     0                298.2                    308.7   \n",
       "2996     0                300.5                    309.8   \n",
       "5317     1                303.6                    312.8   \n",
       "357      1                297.6                    308.4   \n",
       "50       1                298.9                    309.2   \n",
       "7932     0                300.7                    311.7   \n",
       "1524     0                298.3                    309.0   \n",
       "7553     0                300.3                    311.3   \n",
       "497      1                297.5                    309.2   \n",
       "\n",
       "      Rotational speed [rpm]  Torque [Nm]  Tool wear [min]  \n",
       "UDI                                                         \n",
       "7390                    1707         32.5              124  \n",
       "9276                    1605         29.4               47  \n",
       "2996                    1550         37.4              148  \n",
       "5317                    1689         33.1               16  \n",
       "357                     1398         48.9               63  \n",
       "50                      1412         44.1              140  \n",
       "7932                    1499         38.4              205  \n",
       "1524                    1519         36.9               41  \n",
       "7553                    1525         40.7              105  \n",
       "497                     1530         40.0              206  "
      ]
     },
     "execution_count": 13,
     "metadata": {},
     "output_type": "execute_result"
    }
   ],
   "source": [
    "preprocessing_job_description = processor.jobs[-1].describe()\n",
    "\n",
    "output_config = preprocessing_job_description[\"ProcessingOutputConfig\"]\n",
    "\n",
    "for output in output_config[\"Outputs\"]:\n",
    "    if output[\"OutputName\"] == \"train_data\":\n",
    "        preprocessed_training_data = output[\"S3Output\"][\"S3Uri\"]\n",
    "    if output[\"OutputName\"] == \"test_data\":\n",
    "        preprocessed_test_data = output[\"S3Output\"][\"S3Uri\"]\n",
    "        \n",
    "#Observe the processed data \n",
    "training_features = pd.read_csv(preprocessed_training_data + \"/dataset_train.csv\", index_col = \"UDI\",nrows=10)\n",
    "print(\"Training features shape: {}\".format(training_features.shape))\n",
    "training_features.drop([\"Target\"], axis=1)"
   ]
  },
  {
   "cell_type": "markdown",
   "id": "d12d047b",
   "metadata": {},
   "source": [
    "## Training"
   ]
  },
  {
   "cell_type": "code",
   "execution_count": null,
   "id": "e42c06e6",
   "metadata": {},
   "outputs": [],
   "source": [
    "training_image = image_uris.retrieve(framework='sklearn',region='us-east-1',version='0.20.0',image_scope='training')\n",
    "\n",
    "from sagemaker.estimator import Estimator\n",
    "\n",
    "estimator = Estimator(\n",
    "    role = role,\n",
    "    instance_count = 1,\n",
    "    instance_type = \"local\",\n",
    "    image_uri = training_image,\n",
    "    instanc_type = \"local\",\n",
    "    entry_point = \"train.py\"   \n",
    ")\n",
    "\n",
    "estimator.fit({\"train\" : preprocessed_training_data, \"test\" : preprocessed_test_data})"
   ]
  },
  {
   "cell_type": "code",
   "execution_count": null,
   "id": "a5fc2568",
   "metadata": {},
   "outputs": [],
   "source": [
    "training_job_description = estimator.jobs[-1].describe()\n",
    "training_job_description\n",
    "model_data_s3_uri = \"{}\".format(training_job_description[\"ModelArtifacts\"][\"S3ModelArtifacts\"])\n",
    "model_data_s3_uri"
   ]
  },
  {
   "cell_type": "markdown",
   "id": "d60b2501",
   "metadata": {},
   "source": [
    "## Deploy"
   ]
  },
  {
   "cell_type": "code",
   "execution_count": null,
   "id": "66e496b4",
   "metadata": {},
   "outputs": [],
   "source": [
    "from sagemaker.model import Model\n",
    "\n",
    "inference_image = image_uris.retrieve(framework='sklearn',region='us-east-1',version='0.20.0',image_scope='training')\n",
    "\n",
    "model = Model(\n",
    "    image_uri = inference_image,\n",
    "    model_data = model_data_s3_uri,\n",
    "    role = role,\n",
    "    entry_point = \"inference.py\",\n",
    ")"
   ]
  },
  {
   "cell_type": "code",
   "execution_count": null,
   "id": "f7c8b11d",
   "metadata": {},
   "outputs": [],
   "source": [
    "predictor = model.deploy(    \n",
    "    initial_instance_count = 1,\n",
    "    instance_type = \"local\")"
   ]
  },
  {
   "cell_type": "code",
   "execution_count": null,
   "id": "9296251e",
   "metadata": {},
   "outputs": [],
   "source": [
    "predictor.delete_model()\n",
    "predictor.delete_endpoint()"
   ]
  }
 ],
 "metadata": {
  "kernelspec": {
   "display_name": "conda_python3",
   "language": "python",
   "name": "conda_python3"
  },
  "language_info": {
   "codemirror_mode": {
    "name": "ipython",
    "version": 3
   },
   "file_extension": ".py",
   "mimetype": "text/x-python",
   "name": "python",
   "nbconvert_exporter": "python",
   "pygments_lexer": "ipython3",
   "version": "3.10.10"
  }
 },
 "nbformat": 4,
 "nbformat_minor": 5
}
