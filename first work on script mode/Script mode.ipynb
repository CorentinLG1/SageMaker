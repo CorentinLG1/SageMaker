{
 "cells": [
  {
   "cell_type": "code",
   "execution_count": 1,
   "id": "f9cb38d7",
   "metadata": {},
   "outputs": [],
   "source": [
    "#AWS import\n",
    "import sagemaker\n",
    "import boto3\n",
    "\n",
    "#import interne au notebook\n",
    "import numpy as np\n",
    "import pandas as pd\n",
    "import os"
   ]
  },
  {
   "cell_type": "code",
   "execution_count": 2,
   "id": "00a318c1",
   "metadata": {},
   "outputs": [
    {
     "name": "stdout",
     "output_type": "stream",
     "text": [
      "Region AWS : us-east-1\n",
      "sagemaker-us-east-1-222978838857\n"
     ]
    }
   ],
   "source": [
    "session = sagemaker.Session()\n",
    "region = session.boto_region_name\n",
    "print(f\"Region AWS : {region}\")\n",
    "\n",
    "role = sagemaker.get_execution_role()\n",
    "bucket = session.default_bucket()\n",
    "\n",
    "prefix = \"data_script_mode\"\n",
    "print(bucket)"
   ]
  },
  {
   "cell_type": "code",
   "execution_count": 3,
   "id": "1598d4cf",
   "metadata": {},
   "outputs": [],
   "source": [
    "dataset = pd.read_csv(\"predictive_maintenance.csv\", index_col = \"UDI\")\n",
    "boto3.Session().resource('s3').Bucket(bucket).Object(os.path.join(prefix, 'data/dataset.csv')).upload_file('predictive_maintenance.csv')"
   ]
  },
  {
   "cell_type": "code",
   "execution_count": 4,
   "id": "9e9241e3",
   "metadata": {},
   "outputs": [
    {
     "name": "stderr",
     "output_type": "stream",
     "text": [
      "INFO:sagemaker:Creating processing-job with name sagemaker-scikit-learn-2023-06-14-09-12-17-022\n",
      "INFO:sagemaker.local.local_session:Starting processing job\n",
      "INFO:botocore.credentials:Found credentials from IAM Role: BaseNotebookInstanceEc2InstanceRole\n",
      "INFO:sagemaker.local.image:No AWS credentials found in session but credentials from EC2 Metadata Service are available.\n",
      "INFO:sagemaker.local.image:docker compose file: \n",
      "networks:\n",
      "  sagemaker-local:\n",
      "    name: sagemaker-local\n",
      "services:\n",
      "  algo-1-2bifl:\n",
      "    container_name: r2lqfmeve2-algo-1-2bifl\n",
      "    entrypoint:\n",
      "    - python3\n",
      "    - /opt/ml/processing/input/code/processing.py\n",
      "    - --train-test-split-ratio\n",
      "    - '0.2'\n",
      "    environment: []\n",
      "    image: 683313688378.dkr.ecr.us-east-1.amazonaws.com/sagemaker-scikit-learn:0.20.0-cpu-py3\n",
      "    networks:\n",
      "      sagemaker-local:\n",
      "        aliases:\n",
      "        - algo-1-2bifl\n",
      "    stdin_open: true\n",
      "    tty: true\n",
      "    volumes:\n",
      "    - /tmp/tmpfpj07679/algo-1-2bifl/config:/opt/ml/config\n",
      "    - /tmp/tmpfpj07679/algo-1-2bifl/output:/opt/ml/output\n",
      "    - /tmp/tmpbbfmbvwv:/opt/ml/processing/input\n",
      "    - /tmp/tmp00qrucg5:/opt/ml/processing/input/code\n",
      "    - /tmp/tmpbs5vlx1z/output/train_data:/opt/ml/processing/train\n",
      "    - /tmp/tmpbs5vlx1z/output/test_data:/opt/ml/processing/test\n",
      "    - /tmp/tmpfpj07679/shared:/opt/ml/shared\n",
      "version: '2.3'\n",
      "\n",
      "INFO:sagemaker.local.image:docker command: docker-compose -f /tmp/tmpfpj07679/docker-compose.yaml up --build --abort-on-container-exit\n",
      "WARNING! Your password will be stored unencrypted in /home/ec2-user/.docker/config.json.\n",
      "Configure a credential helper to remove this warning. See\n",
      "https://docs.docker.com/engine/reference/commandline/login/#credentials-store\n",
      "\n",
      "INFO:sagemaker.local.image:docker command: docker pull 683313688378.dkr.ecr.us-east-1.amazonaws.com/sagemaker-scikit-learn:0.20.0-cpu-py3\n"
     ]
    },
    {
     "name": "stdout",
     "output_type": "stream",
     "text": [
      "Login Succeeded\n"
     ]
    },
    {
     "name": "stderr",
     "output_type": "stream",
     "text": [
      "INFO:sagemaker.local.image:image pulled: 683313688378.dkr.ecr.us-east-1.amazonaws.com/sagemaker-scikit-learn:0.20.0-cpu-py3\n"
     ]
    },
    {
     "name": "stdout",
     "output_type": "stream",
     "text": [
      "Creating r2lqfmeve2-algo-1-2bifl ... \n",
      "Creating r2lqfmeve2-algo-1-2bifl ... done\n",
      "Attaching to r2lqfmeve2-algo-1-2bifl\n",
      "\u001b[36mr2lqfmeve2-algo-1-2bifl |\u001b[0m /miniconda3/lib/python3.7/site-packages/sklearn/externals/joblib/externals/cloudpickle/cloudpickle.py:47: DeprecationWarning: the imp module is deprecated in favour of importlib; see the module's documentation for alternative uses\n",
      "\u001b[36mr2lqfmeve2-algo-1-2bifl |\u001b[0m   import imp\n",
      "\u001b[36mr2lqfmeve2-algo-1-2bifl |\u001b[0m /miniconda3/lib/python3.7/site-packages/sklearn/utils/validation.py:37: DeprecationWarning: distutils Version classes are deprecated. Use packaging.version instead.\n",
      "\u001b[36mr2lqfmeve2-algo-1-2bifl |\u001b[0m   LARGE_SPARSE_SUPPORTED = LooseVersion(scipy_version) >= '0.14.0'\n",
      "\u001b[36mr2lqfmeve2-algo-1-2bifl |\u001b[0m Received arguments Namespace(train_test_split_ratio=0.2)\n",
      "\u001b[36mr2lqfmeve2-algo-1-2bifl |\u001b[0m Reading input data from /opt/ml/processing/input/dataset.csv\n",
      "\u001b[36mr2lqfmeve2-algo-1-2bifl |\u001b[0m Splitting data into train and test sets with ratio 0.2\n",
      "\u001b[36mr2lqfmeve2-algo-1-2bifl |\u001b[0m       Type  ...  Target\n",
      "\u001b[36mr2lqfmeve2-algo-1-2bifl |\u001b[0m UDI         ...        \n",
      "\u001b[36mr2lqfmeve2-algo-1-2bifl |\u001b[0m 7390     0  ...       0\n",
      "\u001b[36mr2lqfmeve2-algo-1-2bifl |\u001b[0m 9276     0  ...       0\n",
      "\u001b[36mr2lqfmeve2-algo-1-2bifl |\u001b[0m 2996     0  ...       0\n",
      "\u001b[36mr2lqfmeve2-algo-1-2bifl |\u001b[0m 5317     1  ...       0\n",
      "\u001b[36mr2lqfmeve2-algo-1-2bifl |\u001b[0m 357      1  ...       0\n",
      "\u001b[36mr2lqfmeve2-algo-1-2bifl |\u001b[0m ...    ...  ...     ...\n",
      "\u001b[36mr2lqfmeve2-algo-1-2bifl |\u001b[0m 9226     0  ...       0\n",
      "\u001b[36mr2lqfmeve2-algo-1-2bifl |\u001b[0m 4860     0  ...       0\n",
      "\u001b[36mr2lqfmeve2-algo-1-2bifl |\u001b[0m 3265     2  ...       0\n",
      "\u001b[36mr2lqfmeve2-algo-1-2bifl |\u001b[0m 9846     0  ...       0\n",
      "\u001b[36mr2lqfmeve2-algo-1-2bifl |\u001b[0m 2733     0  ...       0\n",
      "\u001b[36mr2lqfmeve2-algo-1-2bifl |\u001b[0m \n",
      "\u001b[36mr2lqfmeve2-algo-1-2bifl |\u001b[0m [8000 rows x 7 columns]\n",
      "\u001b[36mr2lqfmeve2-algo-1-2bifl exited with code 0\n",
      "\u001b[0mAborting on container exit...\n",
      "===== Job Complete =====\n"
     ]
    }
   ],
   "source": [
    "from sagemaker.sklearn.processing import SKLearnProcessor\n",
    "from sagemaker.processing import ProcessingInput, ProcessingOutput\n",
    "\n",
    "processor = SKLearnProcessor(\n",
    "    framework_version = \"0.20.0\",\n",
    "    role = role,\n",
    "    instance_count = 1,\n",
    "    instance_type = \"local\")\n",
    "\n",
    "\n",
    "bucket_path = 's3://{}'.format(bucket)\n",
    "\n",
    "processor.run(code = \"processing.py\",\n",
    "    inputs=[ProcessingInput(source=f\"{bucket_path}/{prefix}/data/dataset.csv\", destination=\"/opt/ml/processing/input\")],\n",
    "    outputs=[\n",
    "        ProcessingOutput(output_name=\"train_data\", source=\"/opt/ml/processing/train\"),\n",
    "        ProcessingOutput(output_name=\"test_data\", source=\"/opt/ml/processing/test\"),\n",
    "    ],\n",
    "    arguments=[\"--train-test-split-ratio\", \"0.2\"],\n",
    ")"
   ]
  },
  {
   "cell_type": "code",
   "execution_count": 5,
   "id": "f332b4c2",
   "metadata": {},
   "outputs": [
    {
     "name": "stderr",
     "output_type": "stream",
     "text": [
      "INFO:botocore.credentials:Found credentials from IAM Role: BaseNotebookInstanceEc2InstanceRole\n"
     ]
    },
    {
     "name": "stdout",
     "output_type": "stream",
     "text": [
      "Training features shape: (10, 7)\n"
     ]
    },
    {
     "data": {
      "text/html": [
       "<div>\n",
       "<style scoped>\n",
       "    .dataframe tbody tr th:only-of-type {\n",
       "        vertical-align: middle;\n",
       "    }\n",
       "\n",
       "    .dataframe tbody tr th {\n",
       "        vertical-align: top;\n",
       "    }\n",
       "\n",
       "    .dataframe thead th {\n",
       "        text-align: right;\n",
       "    }\n",
       "</style>\n",
       "<table border=\"1\" class=\"dataframe\">\n",
       "  <thead>\n",
       "    <tr style=\"text-align: right;\">\n",
       "      <th></th>\n",
       "      <th>Type</th>\n",
       "      <th>Air temperature [K]</th>\n",
       "      <th>Process temperature [K]</th>\n",
       "      <th>Rotational speed [rpm]</th>\n",
       "      <th>Torque [Nm]</th>\n",
       "      <th>Tool wear [min]</th>\n",
       "    </tr>\n",
       "    <tr>\n",
       "      <th>UDI</th>\n",
       "      <th></th>\n",
       "      <th></th>\n",
       "      <th></th>\n",
       "      <th></th>\n",
       "      <th></th>\n",
       "      <th></th>\n",
       "    </tr>\n",
       "  </thead>\n",
       "  <tbody>\n",
       "    <tr>\n",
       "      <th>7390</th>\n",
       "      <td>0</td>\n",
       "      <td>299.8</td>\n",
       "      <td>310.6</td>\n",
       "      <td>1707</td>\n",
       "      <td>32.5</td>\n",
       "      <td>124</td>\n",
       "    </tr>\n",
       "    <tr>\n",
       "      <th>9276</th>\n",
       "      <td>0</td>\n",
       "      <td>298.2</td>\n",
       "      <td>308.7</td>\n",
       "      <td>1605</td>\n",
       "      <td>29.4</td>\n",
       "      <td>47</td>\n",
       "    </tr>\n",
       "    <tr>\n",
       "      <th>2996</th>\n",
       "      <td>0</td>\n",
       "      <td>300.5</td>\n",
       "      <td>309.8</td>\n",
       "      <td>1550</td>\n",
       "      <td>37.4</td>\n",
       "      <td>148</td>\n",
       "    </tr>\n",
       "    <tr>\n",
       "      <th>5317</th>\n",
       "      <td>1</td>\n",
       "      <td>303.6</td>\n",
       "      <td>312.8</td>\n",
       "      <td>1689</td>\n",
       "      <td>33.1</td>\n",
       "      <td>16</td>\n",
       "    </tr>\n",
       "    <tr>\n",
       "      <th>357</th>\n",
       "      <td>1</td>\n",
       "      <td>297.6</td>\n",
       "      <td>308.4</td>\n",
       "      <td>1398</td>\n",
       "      <td>48.9</td>\n",
       "      <td>63</td>\n",
       "    </tr>\n",
       "    <tr>\n",
       "      <th>50</th>\n",
       "      <td>1</td>\n",
       "      <td>298.9</td>\n",
       "      <td>309.2</td>\n",
       "      <td>1412</td>\n",
       "      <td>44.1</td>\n",
       "      <td>140</td>\n",
       "    </tr>\n",
       "    <tr>\n",
       "      <th>7932</th>\n",
       "      <td>0</td>\n",
       "      <td>300.7</td>\n",
       "      <td>311.7</td>\n",
       "      <td>1499</td>\n",
       "      <td>38.4</td>\n",
       "      <td>205</td>\n",
       "    </tr>\n",
       "    <tr>\n",
       "      <th>1524</th>\n",
       "      <td>0</td>\n",
       "      <td>298.3</td>\n",
       "      <td>309.0</td>\n",
       "      <td>1519</td>\n",
       "      <td>36.9</td>\n",
       "      <td>41</td>\n",
       "    </tr>\n",
       "    <tr>\n",
       "      <th>7553</th>\n",
       "      <td>0</td>\n",
       "      <td>300.3</td>\n",
       "      <td>311.3</td>\n",
       "      <td>1525</td>\n",
       "      <td>40.7</td>\n",
       "      <td>105</td>\n",
       "    </tr>\n",
       "    <tr>\n",
       "      <th>497</th>\n",
       "      <td>1</td>\n",
       "      <td>297.5</td>\n",
       "      <td>309.2</td>\n",
       "      <td>1530</td>\n",
       "      <td>40.0</td>\n",
       "      <td>206</td>\n",
       "    </tr>\n",
       "  </tbody>\n",
       "</table>\n",
       "</div>"
      ],
      "text/plain": [
       "      Type  Air temperature [K]  Process temperature [K]  \\\n",
       "UDI                                                        \n",
       "7390     0                299.8                    310.6   \n",
       "9276     0                298.2                    308.7   \n",
       "2996     0                300.5                    309.8   \n",
       "5317     1                303.6                    312.8   \n",
       "357      1                297.6                    308.4   \n",
       "50       1                298.9                    309.2   \n",
       "7932     0                300.7                    311.7   \n",
       "1524     0                298.3                    309.0   \n",
       "7553     0                300.3                    311.3   \n",
       "497      1                297.5                    309.2   \n",
       "\n",
       "      Rotational speed [rpm]  Torque [Nm]  Tool wear [min]  \n",
       "UDI                                                         \n",
       "7390                    1707         32.5              124  \n",
       "9276                    1605         29.4               47  \n",
       "2996                    1550         37.4              148  \n",
       "5317                    1689         33.1               16  \n",
       "357                     1398         48.9               63  \n",
       "50                      1412         44.1              140  \n",
       "7932                    1499         38.4              205  \n",
       "1524                    1519         36.9               41  \n",
       "7553                    1525         40.7              105  \n",
       "497                     1530         40.0              206  "
      ]
     },
     "execution_count": 5,
     "metadata": {},
     "output_type": "execute_result"
    }
   ],
   "source": [
    "preprocessing_job_description = processor.jobs[-1].describe()\n",
    "\n",
    "output_config = preprocessing_job_description[\"ProcessingOutputConfig\"]\n",
    "\n",
    "for output in output_config[\"Outputs\"]:\n",
    "    if output[\"OutputName\"] == \"train_data\":\n",
    "        preprocessed_training_data = output[\"S3Output\"][\"S3Uri\"]\n",
    "    if output[\"OutputName\"] == \"test_data\":\n",
    "        preprocessed_test_data = output[\"S3Output\"][\"S3Uri\"]\n",
    "        \n",
    "#Observe the processed data \n",
    "training_features = pd.read_csv(preprocessed_training_data + \"/dataset_train.csv\", index_col = \"UDI\",nrows=10)\n",
    "print(\"Training features shape: {}\".format(training_features.shape))\n",
    "training_features.drop([\"Target\"], axis=1)"
   ]
  },
  {
   "cell_type": "markdown",
   "id": "763a8b40",
   "metadata": {},
   "source": [
    "## Training"
   ]
  },
  {
   "cell_type": "code",
   "execution_count": 6,
   "id": "1cddf6ee",
   "metadata": {},
   "outputs": [
    {
     "name": "stderr",
     "output_type": "stream",
     "text": [
      "INFO:botocore.credentials:Found credentials from IAM Role: BaseNotebookInstanceEc2InstanceRole\n",
      "INFO:sagemaker:Creating training-job with name: sagemaker-scikit-learn-2023-06-14-09-28-19-927\n",
      "INFO:sagemaker.local.local_session:Starting training job\n",
      "INFO:botocore.credentials:Found credentials from IAM Role: BaseNotebookInstanceEc2InstanceRole\n",
      "INFO:sagemaker.local.image:No AWS credentials found in session but credentials from EC2 Metadata Service are available.\n",
      "INFO:sagemaker.local.image:docker compose file: \n",
      "networks:\n",
      "  sagemaker-local:\n",
      "    name: sagemaker-local\n",
      "services:\n",
      "  algo-1-b09s5:\n",
      "    command: train\n",
      "    container_name: ldla6mkznv-algo-1-b09s5\n",
      "    environment:\n",
      "    - '[Masked]'\n",
      "    - '[Masked]'\n",
      "    image: 683313688378.dkr.ecr.us-east-1.amazonaws.com/sagemaker-scikit-learn:0.20.0-cpu-py3\n",
      "    networks:\n",
      "      sagemaker-local:\n",
      "        aliases:\n",
      "        - algo-1-b09s5\n",
      "    stdin_open: true\n",
      "    tty: true\n",
      "    volumes:\n",
      "    - /tmp/tmpjvpdbx3l/algo-1-b09s5/input:/opt/ml/input\n",
      "    - /tmp/tmpjvpdbx3l/algo-1-b09s5/output:/opt/ml/output\n",
      "    - /tmp/tmpjvpdbx3l/algo-1-b09s5/output/data:/opt/ml/output/data\n",
      "    - /tmp/tmpjvpdbx3l/model:/opt/ml/model\n",
      "    - /opt/ml/metadata:/opt/ml/metadata\n",
      "    - /tmp/tmpnew3gykw:/opt/ml/input/data/train\n",
      "    - /tmp/tmpi2wzreln:/opt/ml/input/data/test\n",
      "version: '2.3'\n",
      "\n",
      "INFO:sagemaker.local.image:docker command: docker-compose -f /tmp/tmpjvpdbx3l/docker-compose.yaml up --build --abort-on-container-exit\n"
     ]
    },
    {
     "name": "stdout",
     "output_type": "stream",
     "text": [
      "Creating ldla6mkznv-algo-1-b09s5 ... \n",
      "Creating ldla6mkznv-algo-1-b09s5 ... done\n",
      "Attaching to ldla6mkznv-algo-1-b09s5\n",
      "\u001b[36mldla6mkznv-algo-1-b09s5 |\u001b[0m 2023-06-14 09:28:23,489 sagemaker-containers INFO     Imported framework sagemaker_sklearn_container.training\n",
      "\u001b[36mldla6mkznv-algo-1-b09s5 |\u001b[0m 2023-06-14 09:28:23,493 sagemaker-training-toolkit INFO     No GPUs detected (normal if no gpus installed)\n",
      "\u001b[36mldla6mkznv-algo-1-b09s5 |\u001b[0m 2023-06-14 09:28:23,502 sagemaker-training-toolkit INFO     instance_groups entry not present in resource_config\n",
      "\u001b[36mldla6mkznv-algo-1-b09s5 |\u001b[0m 2023-06-14 09:28:23,502 sagemaker_sklearn_container.training INFO     Invoking user training script.\n",
      "\u001b[36mldla6mkznv-algo-1-b09s5 |\u001b[0m 2023-06-14 09:28:23,755 sagemaker-training-toolkit INFO     No GPUs detected (normal if no gpus installed)\n",
      "\u001b[36mldla6mkznv-algo-1-b09s5 |\u001b[0m 2023-06-14 09:28:23,764 sagemaker-training-toolkit INFO     instance_groups entry not present in resource_config\n",
      "\u001b[36mldla6mkznv-algo-1-b09s5 |\u001b[0m 2023-06-14 09:28:23,769 sagemaker-training-toolkit INFO     No GPUs detected (normal if no gpus installed)\n",
      "\u001b[36mldla6mkznv-algo-1-b09s5 |\u001b[0m 2023-06-14 09:28:23,778 sagemaker-training-toolkit INFO     instance_groups entry not present in resource_config\n",
      "\u001b[36mldla6mkznv-algo-1-b09s5 |\u001b[0m 2023-06-14 09:28:23,782 sagemaker-training-toolkit INFO     No GPUs detected (normal if no gpus installed)\n",
      "\u001b[36mldla6mkznv-algo-1-b09s5 |\u001b[0m 2023-06-14 09:28:23,792 sagemaker-training-toolkit INFO     instance_groups entry not present in resource_config\n",
      "\u001b[36mldla6mkznv-algo-1-b09s5 |\u001b[0m 2023-06-14 09:28:23,793 sagemaker-training-toolkit INFO     Invoking user script\n",
      "\u001b[36mldla6mkznv-algo-1-b09s5 |\u001b[0m \n",
      "\u001b[36mldla6mkznv-algo-1-b09s5 |\u001b[0m Training Env:\n",
      "\u001b[36mldla6mkznv-algo-1-b09s5 |\u001b[0m \n",
      "\u001b[36mldla6mkznv-algo-1-b09s5 |\u001b[0m {\n",
      "\u001b[36mldla6mkznv-algo-1-b09s5 |\u001b[0m     \"additional_framework_parameters\": {},\n",
      "\u001b[36mldla6mkznv-algo-1-b09s5 |\u001b[0m     \"channel_input_dirs\": {\n",
      "\u001b[36mldla6mkznv-algo-1-b09s5 |\u001b[0m         \"train\": \"/opt/ml/input/data/train\",\n",
      "\u001b[36mldla6mkznv-algo-1-b09s5 |\u001b[0m         \"test\": \"/opt/ml/input/data/test\"\n",
      "\u001b[36mldla6mkznv-algo-1-b09s5 |\u001b[0m     },\n",
      "\u001b[36mldla6mkznv-algo-1-b09s5 |\u001b[0m     \"current_host\": \"algo-1-b09s5\",\n",
      "\u001b[36mldla6mkznv-algo-1-b09s5 |\u001b[0m     \"current_instance_group\": \"homogeneousCluster\",\n",
      "\u001b[36mldla6mkznv-algo-1-b09s5 |\u001b[0m     \"current_instance_group_hosts\": [],\n",
      "\u001b[36mldla6mkznv-algo-1-b09s5 |\u001b[0m     \"current_instance_type\": \"local\",\n",
      "\u001b[36mldla6mkznv-algo-1-b09s5 |\u001b[0m     \"distribution_hosts\": [\n",
      "\u001b[36mldla6mkznv-algo-1-b09s5 |\u001b[0m         \"algo-1-b09s5\"\n",
      "\u001b[36mldla6mkznv-algo-1-b09s5 |\u001b[0m     ],\n",
      "\u001b[36mldla6mkznv-algo-1-b09s5 |\u001b[0m     \"distribution_instance_groups\": [],\n",
      "\u001b[36mldla6mkznv-algo-1-b09s5 |\u001b[0m     \"framework_module\": \"sagemaker_sklearn_container.training:main\",\n",
      "\u001b[36mldla6mkznv-algo-1-b09s5 |\u001b[0m     \"hosts\": [\n",
      "\u001b[36mldla6mkznv-algo-1-b09s5 |\u001b[0m         \"algo-1-b09s5\"\n",
      "\u001b[36mldla6mkznv-algo-1-b09s5 |\u001b[0m     ],\n",
      "\u001b[36mldla6mkznv-algo-1-b09s5 |\u001b[0m     \"hyperparameters\": {},\n",
      "\u001b[36mldla6mkznv-algo-1-b09s5 |\u001b[0m     \"input_config_dir\": \"/opt/ml/input/config\",\n",
      "\u001b[36mldla6mkznv-algo-1-b09s5 |\u001b[0m     \"input_data_config\": {\n",
      "\u001b[36mldla6mkznv-algo-1-b09s5 |\u001b[0m         \"train\": {\n",
      "\u001b[36mldla6mkznv-algo-1-b09s5 |\u001b[0m             \"TrainingInputMode\": \"File\"\n",
      "\u001b[36mldla6mkznv-algo-1-b09s5 |\u001b[0m         },\n",
      "\u001b[36mldla6mkznv-algo-1-b09s5 |\u001b[0m         \"test\": {\n",
      "\u001b[36mldla6mkznv-algo-1-b09s5 |\u001b[0m             \"TrainingInputMode\": \"File\"\n",
      "\u001b[36mldla6mkznv-algo-1-b09s5 |\u001b[0m         }\n",
      "\u001b[36mldla6mkznv-algo-1-b09s5 |\u001b[0m     },\n",
      "\u001b[36mldla6mkznv-algo-1-b09s5 |\u001b[0m     \"input_dir\": \"/opt/ml/input\",\n",
      "\u001b[36mldla6mkznv-algo-1-b09s5 |\u001b[0m     \"instance_groups\": [],\n",
      "\u001b[36mldla6mkznv-algo-1-b09s5 |\u001b[0m     \"instance_groups_dict\": {},\n",
      "\u001b[36mldla6mkznv-algo-1-b09s5 |\u001b[0m     \"is_hetero\": false,\n",
      "\u001b[36mldla6mkznv-algo-1-b09s5 |\u001b[0m     \"is_master\": true,\n",
      "\u001b[36mldla6mkznv-algo-1-b09s5 |\u001b[0m     \"is_modelparallel_enabled\": null,\n",
      "\u001b[36mldla6mkznv-algo-1-b09s5 |\u001b[0m     \"job_name\": \"sagemaker-scikit-learn-2023-06-14-09-28-19-927\",\n",
      "\u001b[36mldla6mkznv-algo-1-b09s5 |\u001b[0m     \"log_level\": 20,\n",
      "\u001b[36mldla6mkznv-algo-1-b09s5 |\u001b[0m     \"master_hostname\": \"algo-1-b09s5\",\n",
      "\u001b[36mldla6mkznv-algo-1-b09s5 |\u001b[0m     \"model_dir\": \"/opt/ml/model\",\n",
      "\u001b[36mldla6mkznv-algo-1-b09s5 |\u001b[0m     \"module_dir\": \"s3://sagemaker-us-east-1-222978838857/sagemaker-scikit-learn-2023-06-14-09-28-19-927/source/sourcedir.tar.gz\",\n",
      "\u001b[36mldla6mkznv-algo-1-b09s5 |\u001b[0m     \"module_name\": \"train\",\n",
      "\u001b[36mldla6mkznv-algo-1-b09s5 |\u001b[0m     \"network_interface_name\": \"eth0\",\n",
      "\u001b[36mldla6mkznv-algo-1-b09s5 |\u001b[0m     \"num_cpus\": 2,\n",
      "\u001b[36mldla6mkznv-algo-1-b09s5 |\u001b[0m     \"num_gpus\": 0,\n",
      "\u001b[36mldla6mkznv-algo-1-b09s5 |\u001b[0m     \"output_data_dir\": \"/opt/ml/output/data\",\n",
      "\u001b[36mldla6mkznv-algo-1-b09s5 |\u001b[0m     \"output_dir\": \"/opt/ml/output\",\n",
      "\u001b[36mldla6mkznv-algo-1-b09s5 |\u001b[0m     \"output_intermediate_dir\": \"/opt/ml/output/intermediate\",\n",
      "\u001b[36mldla6mkznv-algo-1-b09s5 |\u001b[0m     \"resource_config\": {\n",
      "\u001b[36mldla6mkznv-algo-1-b09s5 |\u001b[0m         \"current_host\": \"algo-1-b09s5\",\n",
      "\u001b[36mldla6mkznv-algo-1-b09s5 |\u001b[0m         \"hosts\": [\n",
      "\u001b[36mldla6mkznv-algo-1-b09s5 |\u001b[0m             \"algo-1-b09s5\"\n",
      "\u001b[36mldla6mkznv-algo-1-b09s5 |\u001b[0m         ]\n",
      "\u001b[36mldla6mkznv-algo-1-b09s5 |\u001b[0m     },\n",
      "\u001b[36mldla6mkznv-algo-1-b09s5 |\u001b[0m     \"user_entry_point\": \"train.py\"\n",
      "\u001b[36mldla6mkznv-algo-1-b09s5 |\u001b[0m }\n",
      "\u001b[36mldla6mkznv-algo-1-b09s5 |\u001b[0m \n",
      "\u001b[36mldla6mkznv-algo-1-b09s5 |\u001b[0m Environment variables:\n",
      "\u001b[36mldla6mkznv-algo-1-b09s5 |\u001b[0m \n",
      "\u001b[36mldla6mkznv-algo-1-b09s5 |\u001b[0m SM_HOSTS=[\"algo-1-b09s5\"]\n",
      "\u001b[36mldla6mkznv-algo-1-b09s5 |\u001b[0m SM_NETWORK_INTERFACE_NAME=eth0\n",
      "\u001b[36mldla6mkznv-algo-1-b09s5 |\u001b[0m SM_HPS={}\n",
      "\u001b[36mldla6mkznv-algo-1-b09s5 |\u001b[0m SM_USER_ENTRY_POINT=train.py\n",
      "\u001b[36mldla6mkznv-algo-1-b09s5 |\u001b[0m SM_FRAMEWORK_PARAMS={}\n",
      "\u001b[36mldla6mkznv-algo-1-b09s5 |\u001b[0m SM_RESOURCE_CONFIG={\"current_host\":\"algo-1-b09s5\",\"hosts\":[\"algo-1-b09s5\"]}\n",
      "\u001b[36mldla6mkznv-algo-1-b09s5 |\u001b[0m SM_INPUT_DATA_CONFIG={\"test\":{\"TrainingInputMode\":\"File\"},\"train\":{\"TrainingInputMode\":\"File\"}}\n",
      "\u001b[36mldla6mkznv-algo-1-b09s5 |\u001b[0m SM_OUTPUT_DATA_DIR=/opt/ml/output/data\n",
      "\u001b[36mldla6mkznv-algo-1-b09s5 |\u001b[0m SM_CHANNELS=[\"test\",\"train\"]\n",
      "\u001b[36mldla6mkznv-algo-1-b09s5 |\u001b[0m SM_CURRENT_HOST=algo-1-b09s5\n",
      "\u001b[36mldla6mkznv-algo-1-b09s5 |\u001b[0m SM_CURRENT_INSTANCE_TYPE=local\n",
      "\u001b[36mldla6mkznv-algo-1-b09s5 |\u001b[0m SM_CURRENT_INSTANCE_GROUP=homogeneousCluster\n",
      "\u001b[36mldla6mkznv-algo-1-b09s5 |\u001b[0m SM_CURRENT_INSTANCE_GROUP_HOSTS=[]\n",
      "\u001b[36mldla6mkznv-algo-1-b09s5 |\u001b[0m SM_INSTANCE_GROUPS=[]\n",
      "\u001b[36mldla6mkznv-algo-1-b09s5 |\u001b[0m SM_INSTANCE_GROUPS_DICT={}\n",
      "\u001b[36mldla6mkznv-algo-1-b09s5 |\u001b[0m SM_DISTRIBUTION_INSTANCE_GROUPS=[]\n",
      "\u001b[36mldla6mkznv-algo-1-b09s5 |\u001b[0m SM_IS_HETERO=false\n",
      "\u001b[36mldla6mkznv-algo-1-b09s5 |\u001b[0m SM_MODULE_NAME=train\n",
      "\u001b[36mldla6mkznv-algo-1-b09s5 |\u001b[0m SM_LOG_LEVEL=20\n",
      "\u001b[36mldla6mkznv-algo-1-b09s5 |\u001b[0m SM_FRAMEWORK_MODULE=sagemaker_sklearn_container.training:main\n",
      "\u001b[36mldla6mkznv-algo-1-b09s5 |\u001b[0m SM_INPUT_DIR=/opt/ml/input\n",
      "\u001b[36mldla6mkznv-algo-1-b09s5 |\u001b[0m SM_INPUT_CONFIG_DIR=/opt/ml/input/config\n",
      "\u001b[36mldla6mkznv-algo-1-b09s5 |\u001b[0m SM_OUTPUT_DIR=/opt/ml/output\n",
      "\u001b[36mldla6mkznv-algo-1-b09s5 |\u001b[0m SM_NUM_CPUS=2\n",
      "\u001b[36mldla6mkznv-algo-1-b09s5 |\u001b[0m SM_NUM_GPUS=0\n",
      "\u001b[36mldla6mkznv-algo-1-b09s5 |\u001b[0m SM_MODEL_DIR=/opt/ml/model\n",
      "\u001b[36mldla6mkznv-algo-1-b09s5 |\u001b[0m SM_MODULE_DIR=s3://sagemaker-us-east-1-222978838857/sagemaker-scikit-learn-2023-06-14-09-28-19-927/source/sourcedir.tar.gz\n",
      "\u001b[36mldla6mkznv-algo-1-b09s5 |\u001b[0m SM_TRAINING_ENV={\"additional_framework_parameters\":{},\"channel_input_dirs\":{\"test\":\"/opt/ml/input/data/test\",\"train\":\"/opt/ml/input/data/train\"},\"current_host\":\"algo-1-b09s5\",\"current_instance_group\":\"homogeneousCluster\",\"current_instance_group_hosts\":[],\"current_instance_type\":\"local\",\"distribution_hosts\":[\"algo-1-b09s5\"],\"distribution_instance_groups\":[],\"framework_module\":\"sagemaker_sklearn_container.training:main\",\"hosts\":[\"algo-1-b09s5\"],\"hyperparameters\":{},\"input_config_dir\":\"/opt/ml/input/config\",\"input_data_config\":{\"test\":{\"TrainingInputMode\":\"File\"},\"train\":{\"TrainingInputMode\":\"File\"}},\"input_dir\":\"/opt/ml/input\",\"instance_groups\":[],\"instance_groups_dict\":{},\"is_hetero\":false,\"is_master\":true,\"is_modelparallel_enabled\":null,\"job_name\":\"sagemaker-scikit-learn-2023-06-14-09-28-19-927\",\"log_level\":20,\"master_hostname\":\"algo-1-b09s5\",\"model_dir\":\"/opt/ml/model\",\"module_dir\":\"s3://sagemaker-us-east-1-222978838857/sagemaker-scikit-learn-2023-06-14-09-28-19-927/source/sourcedir.tar.gz\",\"module_name\":\"train\",\"network_interface_name\":\"eth0\",\"num_cpus\":2,\"num_gpus\":0,\"output_data_dir\":\"/opt/ml/output/data\",\"output_dir\":\"/opt/ml/output\",\"output_intermediate_dir\":\"/opt/ml/output/intermediate\",\"resource_config\":{\"current_host\":\"algo-1-b09s5\",\"hosts\":[\"algo-1-b09s5\"]},\"user_entry_point\":\"train.py\"}\n",
      "\u001b[36mldla6mkznv-algo-1-b09s5 |\u001b[0m SM_USER_ARGS=[]\n",
      "\u001b[36mldla6mkznv-algo-1-b09s5 |\u001b[0m SM_OUTPUT_INTERMEDIATE_DIR=/opt/ml/output/intermediate\n",
      "\u001b[36mldla6mkznv-algo-1-b09s5 |\u001b[0m SM_CHANNEL_TRAIN=/opt/ml/input/data/train\n",
      "\u001b[36mldla6mkznv-algo-1-b09s5 |\u001b[0m SM_CHANNEL_TEST=/opt/ml/input/data/test\n",
      "\u001b[36mldla6mkznv-algo-1-b09s5 |\u001b[0m PYTHONPATH=/opt/ml/code:/miniconda3/bin:/miniconda3/lib/python37.zip:/miniconda3/lib/python3.7:/miniconda3/lib/python3.7/lib-dynload:/miniconda3/lib/python3.7/site-packages\n",
      "\u001b[36mldla6mkznv-algo-1-b09s5 |\u001b[0m \n",
      "\u001b[36mldla6mkznv-algo-1-b09s5 |\u001b[0m Invoking script with the following command:\n",
      "\u001b[36mldla6mkznv-algo-1-b09s5 |\u001b[0m \n",
      "\u001b[36mldla6mkznv-algo-1-b09s5 |\u001b[0m /miniconda3/bin/python train.py\n",
      "\u001b[36mldla6mkznv-algo-1-b09s5 |\u001b[0m \n",
      "\u001b[36mldla6mkznv-algo-1-b09s5 |\u001b[0m \n",
      "\u001b[36mldla6mkznv-algo-1-b09s5 |\u001b[0m 2023-06-14 09:28:23,794 sagemaker-training-toolkit INFO     Exceptions not imported for SageMaker Debugger as it is not installed.\n"
     ]
    },
    {
     "name": "stdout",
     "output_type": "stream",
     "text": [
      "\u001b[36mldla6mkznv-algo-1-b09s5 |\u001b[0m /miniconda3/lib/python3.7/site-packages/sklearn/externals/joblib/externals/cloudpickle/cloudpickle.py:47: DeprecationWarning: the imp module is deprecated in favour of importlib; see the module's documentation for alternative uses\n",
      "\u001b[36mldla6mkznv-algo-1-b09s5 |\u001b[0m   import imp\n",
      "\u001b[36mldla6mkznv-algo-1-b09s5 |\u001b[0m /miniconda3/lib/python3.7/site-packages/sklearn/utils/validation.py:37: DeprecationWarning: distutils Version classes are deprecated. Use packaging.version instead.\n",
      "\u001b[36mldla6mkznv-algo-1-b09s5 |\u001b[0m   LARGE_SPARSE_SUPPORTED = LooseVersion(scipy_version) >= '0.14.0'\n",
      "\u001b[36mldla6mkznv-algo-1-b09s5 |\u001b[0m /miniconda3/lib/python3.7/site-packages/sklearn/preprocessing/data.py:617: DataConversionWarning: Data with input dtype int64, float64 were all converted to float64 by StandardScaler.\n",
      "\u001b[36mldla6mkznv-algo-1-b09s5 |\u001b[0m   return self.partial_fit(X, y)\n",
      "\u001b[36mldla6mkznv-algo-1-b09s5 |\u001b[0m /miniconda3/lib/python3.7/site-packages/sklearn/base.py:462: DataConversionWarning: Data with input dtype int64, float64 were all converted to float64 by StandardScaler.\n",
      "\u001b[36mldla6mkznv-algo-1-b09s5 |\u001b[0m   return self.fit(X, **fit_params).transform(X)\n",
      "\u001b[36mldla6mkznv-algo-1-b09s5 |\u001b[0m train.py:44: DataConversionWarning: Data with input dtype int64, float64 were all converted to float64 by StandardScaler.\n",
      "\u001b[36mldla6mkznv-algo-1-b09s5 |\u001b[0m   X_test = sc.transform(X_test)\n",
      "\u001b[36mldla6mkznv-algo-1-b09s5 |\u001b[0m accuracy on test is : 0.9625\n",
      "\u001b[36mldla6mkznv-algo-1-b09s5 |\u001b[0m /miniconda3/lib/python3.7/site-packages/sklearn/externals/joblib/numpy_pickle.py:104: DeprecationWarning: tostring() is deprecated. Use tobytes() instead.\n",
      "\u001b[36mldla6mkznv-algo-1-b09s5 |\u001b[0m   pickler.file_handle.write(chunk.tostring('C'))\n",
      "\u001b[36mldla6mkznv-algo-1-b09s5 |\u001b[0m /miniconda3/lib/python3.7/site-packages/sklearn/externals/joblib/numpy_pickle.py:104: DeprecationWarning: tostring() is deprecated. Use tobytes() instead.\n",
      "\u001b[36mldla6mkznv-algo-1-b09s5 |\u001b[0m   pickler.file_handle.write(chunk.tostring('C'))\n",
      "\u001b[36mldla6mkznv-algo-1-b09s5 |\u001b[0m /miniconda3/lib/python3.7/site-packages/sklearn/externals/joblib/numpy_pickle.py:104: DeprecationWarning: tostring() is deprecated. Use tobytes() instead.\n",
      "\u001b[36mldla6mkznv-algo-1-b09s5 |\u001b[0m   pickler.file_handle.write(chunk.tostring('C'))\n",
      "\u001b[36mldla6mkznv-algo-1-b09s5 |\u001b[0m /miniconda3/lib/python3.7/site-packages/sklearn/externals/joblib/numpy_pickle.py:104: DeprecationWarning: tostring() is deprecated. Use tobytes() instead.\n",
      "\u001b[36mldla6mkznv-algo-1-b09s5 |\u001b[0m   pickler.file_handle.write(chunk.tostring('C'))\n",
      "\u001b[36mldla6mkznv-algo-1-b09s5 |\u001b[0m /miniconda3/lib/python3.7/site-packages/sklearn/externals/joblib/numpy_pickle.py:104: DeprecationWarning: tostring() is deprecated. Use tobytes() instead.\n",
      "\u001b[36mldla6mkznv-algo-1-b09s5 |\u001b[0m   pickler.file_handle.write(chunk.tostring('C'))\n",
      "\u001b[36mldla6mkznv-algo-1-b09s5 |\u001b[0m /miniconda3/lib/python3.7/site-packages/sklearn/externals/joblib/numpy_pickle.py:104: DeprecationWarning: tostring() is deprecated. Use tobytes() instead.\n",
      "\u001b[36mldla6mkznv-algo-1-b09s5 |\u001b[0m   pickler.file_handle.write(chunk.tostring('C'))\n",
      "\u001b[36mldla6mkznv-algo-1-b09s5 |\u001b[0m /miniconda3/lib/python3.7/site-packages/sklearn/externals/joblib/numpy_pickle.py:104: DeprecationWarning: tostring() is deprecated. Use tobytes() instead.\n",
      "\u001b[36mldla6mkznv-algo-1-b09s5 |\u001b[0m   pickler.file_handle.write(chunk.tostring('C'))\n",
      "\u001b[36mldla6mkznv-algo-1-b09s5 |\u001b[0m /miniconda3/lib/python3.7/site-packages/sklearn/externals/joblib/numpy_pickle.py:104: DeprecationWarning: tostring() is deprecated. Use tobytes() instead.\n",
      "\u001b[36mldla6mkznv-algo-1-b09s5 |\u001b[0m   pickler.file_handle.write(chunk.tostring('C'))\n",
      "\u001b[36mldla6mkznv-algo-1-b09s5 |\u001b[0m /miniconda3/lib/python3.7/site-packages/sklearn/externals/joblib/numpy_pickle.py:104: DeprecationWarning: tostring() is deprecated. Use tobytes() instead.\n",
      "\u001b[36mldla6mkznv-algo-1-b09s5 |\u001b[0m   pickler.file_handle.write(chunk.tostring('C'))\n",
      "\u001b[36mldla6mkznv-algo-1-b09s5 |\u001b[0m 2023-06-14 09:28:25,147 sagemaker-containers INFO     Reporting training SUCCESS\n",
      "\u001b[36mldla6mkznv-algo-1-b09s5 exited with code 0\n",
      "\u001b[0mAborting on container exit...\n"
     ]
    },
    {
     "name": "stderr",
     "output_type": "stream",
     "text": [
      "INFO:root:creating /tmp/tmpjvpdbx3l/artifacts/output/data\n",
      "INFO:root:copying /tmp/tmpjvpdbx3l/algo-1-b09s5/output/success -> /tmp/tmpjvpdbx3l/artifacts/output\n",
      "INFO:root:copying /tmp/tmpjvpdbx3l/model/model.joblib -> /tmp/tmpjvpdbx3l/artifacts/model\n"
     ]
    },
    {
     "name": "stdout",
     "output_type": "stream",
     "text": [
      "===== Job Complete =====\n"
     ]
    }
   ],
   "source": [
    "from sagemaker.sklearn.estimator import SKLearn\n",
    "\n",
    "estimator = SKLearn(\n",
    "    entry_point = \"train.py\",\n",
    "    framework_version = \"0.20.0\",\n",
    "    instance_count = 1,\n",
    "    instance_type = \"local\",\n",
    "    role=role\n",
    "    )\n",
    "\n",
    "estimator.fit({\"train\" : preprocessed_training_data, \"test\" : preprocessed_test_data})"
   ]
  },
  {
   "cell_type": "code",
   "execution_count": 134,
   "id": "3046d413",
   "metadata": {},
   "outputs": [
    {
     "data": {
      "text/plain": [
       "'s3://sagemaker-us-east-1-222978838857/sagemaker-scikit-learn-2023-06-13-14-50-37-435/model.tar.gz'"
      ]
     },
     "execution_count": 134,
     "metadata": {},
     "output_type": "execute_result"
    }
   ],
   "source": [
    "training_job_description = estimator.jobs[-1].describe()\n",
    "training_job_description\n",
    "model_data_s3_uri = \"{}\".format(training_job_description[\"ModelArtifacts\"][\"S3ModelArtifacts\"])\n",
    "model_data_s3_uri"
   ]
  },
  {
   "cell_type": "markdown",
   "id": "06f0bd39",
   "metadata": {},
   "source": [
    "## Deploying the model"
   ]
  },
  {
   "cell_type": "code",
   "execution_count": 135,
   "id": "991e9bcf",
   "metadata": {},
   "outputs": [
    {
     "name": "stderr",
     "output_type": "stream",
     "text": [
      "INFO:sagemaker:Creating model with name: sagemaker-scikit-learn-2023-06-13-14-50-50-532\n",
      "INFO:sagemaker:Creating endpoint-config with name sagemaker-scikit-learn-2023-06-13-14-50-50-532\n",
      "INFO:sagemaker:Creating endpoint with name sagemaker-scikit-learn-2023-06-13-14-50-50-532\n",
      "INFO:sagemaker.local.image:serving\n",
      "INFO:sagemaker.local.image:creating hosting dir in /tmp/tmpnz8btjxj\n",
      "INFO:botocore.credentials:Found credentials from IAM Role: BaseNotebookInstanceEc2InstanceRole\n",
      "INFO:sagemaker.local.image:No AWS credentials found in session but credentials from EC2 Metadata Service are available.\n",
      "INFO:sagemaker.local.image:docker compose file: \n",
      "networks:\n",
      "  sagemaker-local:\n",
      "    name: sagemaker-local\n",
      "services:\n",
      "  algo-1-qmx3v:\n",
      "    command: serve\n",
      "    container_name: ft680fky0l-algo-1-qmx3v\n",
      "    environment:\n",
      "    - '[Masked]'\n",
      "    - '[Masked]'\n",
      "    - '[Masked]'\n",
      "    - '[Masked]'\n",
      "    image: 683313688378.dkr.ecr.us-east-1.amazonaws.com/sagemaker-scikit-learn:0.20.0-cpu-py3\n",
      "    networks:\n",
      "      sagemaker-local:\n",
      "        aliases:\n",
      "        - algo-1-qmx3v\n",
      "    ports:\n",
      "    - 8080:8080\n",
      "    stdin_open: true\n",
      "    tty: true\n",
      "    volumes:\n",
      "    - /tmp/tmphwe0gd8y:/opt/ml/model\n",
      "version: '2.3'\n",
      "\n",
      "INFO:sagemaker.local.image:docker command: docker-compose -f /tmp/tmpnz8btjxj/docker-compose.yaml up --build --abort-on-container-exit\n",
      "INFO:sagemaker.local.entities:Checking if serving container is up, attempt: 5\n",
      "WARNING:urllib3.connectionpool:Retrying (Retry(total=2, connect=None, read=None, redirect=None, status=None)) after connection broken by 'NewConnectionError('<urllib3.connection.HTTPConnection object at 0x7f7b088f83d0>: Failed to establish a new connection: [Errno 111] Connection refused')': /ping\n",
      "WARNING:urllib3.connectionpool:Retrying (Retry(total=1, connect=None, read=None, redirect=None, status=None)) after connection broken by 'NewConnectionError('<urllib3.connection.HTTPConnection object at 0x7f7b088f9360>: Failed to establish a new connection: [Errno 111] Connection refused')': /ping\n",
      "WARNING:urllib3.connectionpool:Retrying (Retry(total=0, connect=None, read=None, redirect=None, status=None)) after connection broken by 'NewConnectionError('<urllib3.connection.HTTPConnection object at 0x7f7b088f93c0>: Failed to establish a new connection: [Errno 111] Connection refused')': /ping\n",
      "INFO:sagemaker.local.entities:Container still not up, got: -1\n"
     ]
    },
    {
     "name": "stdout",
     "output_type": "stream",
     "text": [
      "Attaching to ft680fky0l-algo-1-qmx3v\n",
      "\u001b[36mft680fky0l-algo-1-qmx3v |\u001b[0m Processing /opt/ml/code\n",
      "\u001b[36mft680fky0l-algo-1-qmx3v |\u001b[0m   Preparing metadata (setup.py) ... \u001b[?25ldone\n",
      "\u001b[36mft680fky0l-algo-1-qmx3v |\u001b[0m \u001b[?25hBuilding wheels for collected packages: train\n",
      "\u001b[36mft680fky0l-algo-1-qmx3v |\u001b[0m   Building wheel for train (setup.py) ... \u001b[?25ldone\n",
      "\u001b[36mft680fky0l-algo-1-qmx3v |\u001b[0m \u001b[?25h  Created wheel for train: filename=train-1.0.0-py2.py3-none-any.whl size=4179 sha256=aa80424700c298ab7f79682f24137c0fea8a09e1b0e25cc863739872d0a99dc6\n",
      "\u001b[36mft680fky0l-algo-1-qmx3v |\u001b[0m   Stored in directory: /tmp/pip-ephem-wheel-cache-ddncl6he/wheels/3e/0f/51/2f1df833dd0412c1bc2f5ee56baac195b5be563353d111dca6\n",
      "\u001b[36mft680fky0l-algo-1-qmx3v |\u001b[0m Successfully built train\n",
      "\u001b[36mft680fky0l-algo-1-qmx3v |\u001b[0m Installing collected packages: train\n",
      "\u001b[36mft680fky0l-algo-1-qmx3v |\u001b[0m Successfully installed train-1.0.0\n",
      "\u001b[36mft680fky0l-algo-1-qmx3v |\u001b[0m \u001b[33mWARNING: Running pip as the 'root' user can result in broken permissions and conflicting behaviour with the system package manager. It is recommended to use a virtual environment instead: https://pip.pypa.io/warnings/venv\u001b[0m\u001b[33m\n",
      "\u001b[36mft680fky0l-algo-1-qmx3v |\u001b[0m \u001b[0m/miniconda3/lib/python3.7/site-packages/sklearn/externals/joblib/externals/cloudpickle/cloudpickle.py:47: DeprecationWarning: the imp module is deprecated in favour of importlib; see the module's documentation for alternative uses\n",
      "\u001b[36mft680fky0l-algo-1-qmx3v |\u001b[0m   import imp\n",
      "\u001b[36mft680fky0l-algo-1-qmx3v |\u001b[0m /miniconda3/lib/python3.7/site-packages/sklearn/utils/validation.py:37: DeprecationWarning: distutils Version classes are deprecated. Use packaging.version instead.\n",
      "\u001b[36mft680fky0l-algo-1-qmx3v |\u001b[0m   LARGE_SPARSE_SUPPORTED = LooseVersion(scipy_version) >= '0.14.0'\n",
      "\u001b[36mft680fky0l-algo-1-qmx3v |\u001b[0m [2023-06-13 14:50:55 +0000] [31] [INFO] Starting gunicorn 20.1.0\n",
      "\u001b[36mft680fky0l-algo-1-qmx3v |\u001b[0m [2023-06-13 14:50:55 +0000] [31] [INFO] Listening at: unix:/tmp/gunicorn.sock (31)\n",
      "\u001b[36mft680fky0l-algo-1-qmx3v |\u001b[0m [2023-06-13 14:50:55 +0000] [31] [INFO] Using worker: gevent\n",
      "\u001b[36mft680fky0l-algo-1-qmx3v |\u001b[0m [2023-06-13 14:50:55 +0000] [34] [INFO] Booting worker with pid: 34\n",
      "\u001b[36mft680fky0l-algo-1-qmx3v |\u001b[0m [2023-06-13 14:50:55 +0000] [35] [INFO] Booting worker with pid: 35\n"
     ]
    },
    {
     "name": "stderr",
     "output_type": "stream",
     "text": [
      "INFO:sagemaker.local.entities:Checking if serving container is up, attempt: 10\n"
     ]
    },
    {
     "name": "stdout",
     "output_type": "stream",
     "text": [
      "\u001b[36mft680fky0l-algo-1-qmx3v |\u001b[0m 2023-06-13 14:50:56,474 INFO - sagemaker-containers - No GPUs detected (normal if no gpus installed)\n",
      "\u001b[36mft680fky0l-algo-1-qmx3v |\u001b[0m /miniconda3/lib/python3.7/site-packages/sklearn/externals/joblib/externals/cloudpickle/cloudpickle.py:47: DeprecationWarning: the imp module is deprecated in favour of importlib; see the module's documentation for alternative uses\n",
      "\u001b[36mft680fky0l-algo-1-qmx3v |\u001b[0m   import imp\n",
      "\u001b[36mft680fky0l-algo-1-qmx3v |\u001b[0m /miniconda3/lib/python3.7/site-packages/sklearn/utils/validation.py:37: DeprecationWarning: distutils Version classes are deprecated. Use packaging.version instead.\n",
      "\u001b[36mft680fky0l-algo-1-qmx3v |\u001b[0m   LARGE_SPARSE_SUPPORTED = LooseVersion(scipy_version) >= '0.14.0'\n",
      "\u001b[36mft680fky0l-algo-1-qmx3v |\u001b[0m 172.18.0.1 - - [13/Jun/2023:14:50:57 +0000] \"GET /ping HTTP/1.1\" 200 0 \"-\" \"python-urllib3/1.26.8\"\n",
      "!"
     ]
    }
   ],
   "source": [
    "from sagemaker.serializers import CSVSerializer\n",
    "\n",
    "Predictor = estimator.deploy(\n",
    "    initial_instance_count = 1,\n",
    "    instance_type = \"local\")"
   ]
  },
  {
   "cell_type": "code",
   "execution_count": 136,
   "id": "0723c4ff",
   "metadata": {},
   "outputs": [
    {
     "data": {
      "text/plain": [
       "'sagemaker-scikit-learn-2023-06-13-14-50-50-532'"
      ]
     },
     "execution_count": 136,
     "metadata": {},
     "output_type": "execute_result"
    }
   ],
   "source": [
    "Predictor.endpoint_name"
   ]
  },
  {
   "cell_type": "code",
   "execution_count": 137,
   "id": "a1e88017",
   "metadata": {},
   "outputs": [
    {
     "name": "stdout",
     "output_type": "stream",
     "text": [
      "1\n",
      "\u001b[36mft680fky0l-algo-1-qmx3v |\u001b[0m 2023-06-13 14:59:13,167 INFO - sagemaker-containers - No GPUs detected (normal if no gpus installed)\n",
      "\u001b[36mft680fky0l-algo-1-qmx3v |\u001b[0m /miniconda3/lib/python3.7/site-packages/sklearn/externals/joblib/externals/cloudpickle/cloudpickle.py:47: DeprecationWarning: the imp module is deprecated in favour of importlib; see the module's documentation for alternative uses\n",
      "\u001b[36mft680fky0l-algo-1-qmx3v |\u001b[0m   import imp\n",
      "\u001b[36mft680fky0l-algo-1-qmx3v |\u001b[0m /miniconda3/lib/python3.7/site-packages/sklearn/utils/validation.py:37: DeprecationWarning: distutils Version classes are deprecated. Use packaging.version instead.\n",
      "\u001b[36mft680fky0l-algo-1-qmx3v |\u001b[0m   LARGE_SPARSE_SUPPORTED = LooseVersion(scipy_version) >= '0.14.0'\n",
      "\u001b[36mft680fky0l-algo-1-qmx3v |\u001b[0m 172.18.0.1 - - [13/Jun/2023:14:59:14 +0000] \"POST /invocations HTTP/1.1\" 200 136 \"-\" \"python-urllib3/1.26.8\"\n"
     ]
    },
    {
     "data": {
      "text/plain": [
       "array([0])"
      ]
     },
     "execution_count": 137,
     "metadata": {},
     "output_type": "execute_result"
    }
   ],
   "source": [
    "testing_features = pd.read_csv(preprocessed_test_data + \"/dataset_test.csv\", index_col = \"UDI\")\n",
    "print(testing_features[\"Target\"].iloc[216])\n",
    "\n",
    "testing_features = testing_features.drop([\"Target\"], axis=1)\n",
    "\n",
    "Predictor.predict([testing_features.iloc[216].tolist()])"
   ]
  },
  {
   "cell_type": "code",
   "execution_count": 138,
   "id": "31b14348",
   "metadata": {},
   "outputs": [
    {
     "name": "stderr",
     "output_type": "stream",
     "text": [
      "INFO:sagemaker:Deleting model with name: sagemaker-scikit-learn-2023-06-13-14-50-50-532\n",
      "INFO:sagemaker:Deleting endpoint configuration with name: sagemaker-scikit-learn-2023-06-13-14-50-50-532\n",
      "INFO:sagemaker:Deleting endpoint with name: sagemaker-scikit-learn-2023-06-13-14-50-50-532\n"
     ]
    },
    {
     "name": "stdout",
     "output_type": "stream",
     "text": [
      "Gracefully stopping... (press Ctrl+C again to force)\n"
     ]
    }
   ],
   "source": [
    "Predictor.delete_model()\n",
    "Predictor.delete_endpoint()"
   ]
  },
  {
   "cell_type": "code",
   "execution_count": null,
   "id": "789a3c16",
   "metadata": {},
   "outputs": [],
   "source": []
  }
 ],
 "metadata": {
  "kernelspec": {
   "display_name": "conda_python3",
   "language": "python",
   "name": "conda_python3"
  },
  "language_info": {
   "codemirror_mode": {
    "name": "ipython",
    "version": 3
   },
   "file_extension": ".py",
   "mimetype": "text/x-python",
   "name": "python",
   "nbconvert_exporter": "python",
   "pygments_lexer": "ipython3",
   "version": "3.10.8"
  }
 },
 "nbformat": 4,
 "nbformat_minor": 5
}
